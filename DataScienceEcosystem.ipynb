{
 "cells": [
  {
   "cell_type": "markdown",
   "id": "1d31900e",
   "metadata": {},
   "source": [
    "# Data Science Tools and Ecosystem"
   ]
  },
  {
   "cell_type": "markdown",
   "id": "7170632a",
   "metadata": {},
   "source": [
    "In this notebook, Data Science tools and ecosystems are summarized"
   ]
  },
  {
   "cell_type": "markdown",
   "id": "72ba0e6e",
   "metadata": {},
   "source": [
    "Some popular languages for data science include: \n",
    "1. Python\n",
    "2. R\n",
    "3. Julia"
   ]
  },
  {
   "cell_type": "markdown",
   "id": "f906f0b0",
   "metadata": {},
   "source": [
    "Some popular libraries for data science include:\n",
    "1. pandas\n",
    "2. ggplot\n",
    "3. numPy"
   ]
  },
  {
   "cell_type": "markdown",
   "id": "c91762dd",
   "metadata": {},
   "source": [
    "|Data Science Tools|\n",
    "|---|\n",
    "|Anaconda|\n",
    "|jupyter notebook|\n",
    "|IBM Watson Labs|"
   ]
  },
  {
   "cell_type": "markdown",
   "id": "c86ce181",
   "metadata": {},
   "source": [
    "Here are some examples of arithmatic expressions in python:"
   ]
  },
  {
   "cell_type": "code",
   "execution_count": 2,
   "id": "7f2097bb",
   "metadata": {},
   "outputs": [
    {
     "data": {
      "text/plain": [
       "17"
      ]
     },
     "execution_count": 2,
     "metadata": {},
     "output_type": "execute_result"
    }
   ],
   "source": [
    "#this is a simple expression in python\n",
    "(3*4)+5"
   ]
  },
  {
   "cell_type": "code",
   "execution_count": 4,
   "id": "a9568e33",
   "metadata": {},
   "outputs": [
    {
     "data": {
      "text/plain": [
       "3.3333333333333335"
      ]
     },
     "execution_count": 4,
     "metadata": {},
     "output_type": "execute_result"
    }
   ],
   "source": [
    "#this will convert 200 minutes into hours\n",
    "(200/60)"
   ]
  },
  {
   "cell_type": "markdown",
   "id": "34e03308",
   "metadata": {},
   "source": [
    "__Objectives__\n",
    "1. Show popular languages for DS\n",
    "2. Show popular libraries for DS\n",
    "3. Show basic math functions in python"
   ]
  },
  {
   "cell_type": "markdown",
   "id": "b8dcb31c",
   "metadata": {},
   "source": [
    "## Author\n",
    "Josh"
   ]
  },
  {
   "cell_type": "code",
   "execution_count": null,
   "id": "82caeb61",
   "metadata": {},
   "outputs": [],
   "source": []
  }
 ],
 "metadata": {
  "kernelspec": {
   "display_name": "Python 3 (ipykernel)",
   "language": "python",
   "name": "python3"
  },
  "language_info": {
   "codemirror_mode": {
    "name": "ipython",
    "version": 3
   },
   "file_extension": ".py",
   "mimetype": "text/x-python",
   "name": "python",
   "nbconvert_exporter": "python",
   "pygments_lexer": "ipython3",
   "version": "3.11.5"
  }
 },
 "nbformat": 4,
 "nbformat_minor": 5
}
